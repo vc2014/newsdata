{
 "cells": [
  {
   "cell_type": "code",
   "execution_count": 1,
   "metadata": {},
   "outputs": [],
   "source": [
    "import PyPDF2\n",
    "import os\n",
    "import pytesseract\n",
    "from wand.image import Image\n",
    "from PIL import Image as PILImage\n",
    "import urllib.request\n",
    "import io\n",
    "import numpy as np\n",
    "import cv2\n",
    "import pandas as pd\n",
    "\n",
    "import re, string\n",
    " \n",
    "def clearup(s, chars):\n",
    "    return re.sub('[%s]' % chars, ' ', s).lower()\n",
    "\n",
    "\n",
    "with urllib.request.urlopen('file:///C:/Users/visha/Downloads/full-report-ubs-group-ag-consolidated-2017-en.pdf') as response:\n",
    "    pdf_read = response.read()\n",
    "    pdf_im = PyPDF2.PdfFileReader(io.BytesIO(pdf_read))\n",
    "    text = []\n",
    "    for p in range(pdf_im.getNumPages()):\n",
    "        text.append(pdf_im.getPage(p).extractText())\n",
    "        \n",
    "climate_text = []\n",
    "final_text = \"\"      \n",
    "for t in text:\n",
    "    if 'climate' in t.lower():\n",
    "        climate_text.append(clearup(t,string.digits))\n",
    "        final_text = final_text + clearup(t,string.digits) + \".\""
   ]
  },
  {
   "cell_type": "code",
   "execution_count": 6,
   "metadata": {},
   "outputs": [
    {
     "name": "stdout",
     "output_type": "stream",
     "text": [
      "['to', 'shareholders', 'our', 'key', 'figures', 'board', 'of', 'group', 'external', 'reporting', 'approach', '.', 'operating', 'strategy', 'current', 'market', 'climate', 'and', 'industry', 'regulation', 'regulatory', 'legal', 'developments', 'significant', 'accounting', 'financial', 'changes', 'in', 'measurement', 'performance', 'global', 'wealth', 'management', 'personal', '&', 'corporate', 'banking', 'asset', 'investment', 'bank', 'center', 'risk', 'factors', 'critical', 'judgments', 'americas', ',', 'treasury', 'capital', 'control', 'governance', 'responsibility', 'compensation', 'ubs', 'society', 'employees', 'statements', 'consolidated', 'regulated', 'information', 'for', 'subsidiaries', 'used', 'reports', 'cautionary', 'statement', 'environment', 'strategycurrent', 'economic', 'the', 'world', 'economy', 'grew', 'at', 'fastest', 'rate', 'since', ':', 'gdp', 'expanded', '%', 'from', 'a', 'with', 'member', 'g', 'growth', 'œ', 'first', 'time', 'activity', 'increased', 'worldwide', 'recovery', 'property', 'construction', 'russia', 'brazil', 'emerging', 'multi-year', 'us', 'energy', 'sector', 'response', 'higher', 'oil', 'prices', 'equity', 'markets', 'by', 'earnings', 'low', 'real', 'interest', 'rates', 'equities', 'rose', 'more', 'than', 'stocks', 'their', 'developed', 'european', 'local', 'currency', 'terms', 'part', 'due', 'strength', 'year', 'was', 'also', 'volatility', 'no', 'greater', 'decline', 'highs', 'government', 'bond', 'generally', 'remained', 'accelerating', 'rising', 'primarily', 'affected', 'bonds', 'resulting', 'decade', 'swiss', 'were', 'largely', 'depreciated', 'around', 'on', 'weighted', 'basis', 'against', 'most', 'other', 'currencies', 'euro', 'significantly', 'as', 'major', 'reduced', 'monetary', 'stimulus', 'central', 'accelerated', 'widely', 'expected', 'robust', 'consumption', 'expenditure', 'proved', 'be', 'only', 'three', 'hikes', 'conditions', 'throughout', 'eurozone', 'its', 'pace', 'improved', 'business', 'sentiment', 'private', 'declining', 'unemployment', 'uk', 'but', 'resilient', 'uncertainty', 'uk™s', 'withdrawal', 'eu', 'exports', 'weak', 'british', 'switzerland™s', 'franc', 'relative', 'falling', 'trade', 'drive', 'inflation', 'that', 'country™s', 'program', 'may', 'results', 'china™s', 'this', 'driven', 'which', 'demand', 'economies', 'contributing', 'two', 'years', 'good', 'domestic', 'lower', 'south', 'korea', 'taiwan', 'indonesia', 'all', 'while', 'india', 'large', 'decelerate', 'although', 'it', 'remains', 'level', 'outlook', 'we', 'change', 'expect', 'similar', 'recorded', 'last', 'europe', 'china', 'should', 'tax', 'cuts', 'remain', 'above', 'long-term', 'uncertainties', 'over', 'could', 'well', 'switzerland', 'where', 'benefit', 'will', 'likely', 'primary', 'risks', 'impact', 'quantitative', 'threat', 'policy', 'increase', 'might', 'lead', 'continued', 'geopolitical', 'particular', 'relation', 'debt', 'levels', 'transition', 'an', 'important', 'factor', 'pension', 'has', 'challenges', 'fundamental', 'such', 'returns', 'beyond', 'structural', 'these', 'defined', 'contribution', 'believe', 'funds', 'are', 'allocation', 'many', 'now', 'share', 'portfolios', 'investments', 'hedge', 'estate', 'infrastructure', 'search', 'exposures', 'development', 'positive', 'need', 'further', 'support', 'target', 'portfolio', 'addition', 'clients', 'planning', 'advice', 'able', 'provide', 'through', 'services', 'is', 'way', 'banks', 'operate', 'driver', 'considered', 'make', 'efficient', 'become', 'relevant', 'face', 'providers', 'increasingly', 'digital', 'technology', 'client', 'additionally', 'solutions', 'reduce', 'required', 'capacity', 'activities', 'operations', 'allow', 'efficiency', 'technologies', 'can', 'selected', 'processes', 'reducing', 'error', 'regions', 'areas', 'there', 'small', 'result', 'cost', 'seeking', 'exposure', 'asia', 'focus', 'core', 'capabilities', 'or', 'ongoing', 'models', 'decrease', 'operational', 'new', 'competitive', 'traditional', 'competitors', 'businesses', 'including', 'fintechs', 'companies', 'components', 'value', 'chain', 'present', 'relationships', 'ultimately', 'not', 'term', 'platform', 'into', 'strong', 'access', 'data', 'regulations', 'been', 'some', 'number', 'crisis', 'iii', 'continue', 'risk-weighted', 'assets', 'instruments', '(', 'mifid', 'ii', ')', 'have', 'do', 'investor', 'protection', 'component', 'review', 'suitability', 'transparency', 'toward', 'disclosures', 'e.', 'costs', 'structure', 'requirements', 'across', 'broad', 'range', 'classes', 'derivatives', 'enhanced', 'transaction', 'past', 'model', 'absorbing', 'refer', 'ﬁregulatory', 'developmentsﬂ', 'report', 'those', 'described', 'below', 'affect', 'ability', 'execute', 'condition', 'prospects', 'because', 'based', 'firm', 'exposed', 'multiple', 'aware', 'currently', 'consider', 'material', 'adversely', 'order', 'indicate', 'occurrence', 'potential', 'magnitude', 'consequences', 'fluctuations', 'detrimental', 'effect', 'profitability', 'liquidity', 'funding', 'negative', 'negatively', 'net', 'income', 'continuing', 'margins', 'high-quality', 'liquid', 'cover', 'assumptions', 'embedded', 'coverage', 'ratio', 'national', 'deposits', 'up', 'zero', 'any', 'reduction', 'limitations', 'use', 'otherwise', 'applicable', 'customer', 'behavior', 'overall', 'balance', 'sheet', 'mitigating', 'actions', 'taken', 'future', 'fees', 'lending', 'resulted', 'loss', 'money', '/', 'calculation', 'plan', 'liabilities', 'discount', 'applied', 'long', 'corresponding', 'would', 'fully', 'cet', 'subject', 'substantial', 'portion', 'invested', 'revenues', 'expenses', 'foreign', 'rwa', 'denominated', 'accordingly', 'exchange', 'profits', 'deferred', 'leverage', 'ratios', 'non-swiss', 'therefore', 'appreciation', 'adverse', 'needs', 'leading', 'possible', 'both', 'amount', 'proportion', 'ﬁcurrent', 'trendsﬂ', 'section', 'strategic', 'laws', 'affecting', 'institutions', 'following', 'regulators', 'wide', 'supervisory', 'intended', 'address', 'move', 'improve', 'resolvability', 'meet', 'implementation', 'completed', 'being', 'guidance', 'certain', 'still', 'under', 'consideration', 'regarding', 'measures', 'macroeconomic', 'materially', 'credit', 'spreads', 'securities', 'positions', 'downturn', 'events', 'natural', 'political', 'effects', 'regional', 'countries', 'they', 'moreover', 'if', 'individual', 'impose', 'restrictions', 'cross-border', 'payments', 'example', 'one', 'leave', 'losses', 'counterparties', 'own', 'managing', 'globally', 'plans', 'heavily', 'generate', 'revenue', 'associated', 'binding', 'stress', 'test', 'framework', 'aspects', 'asian', 'same', 'related', 'direct', 'ﬁrisk', 'testing', 'mix', 'within', 'products', 'service', 'valuations', 'manage', 'performance-based', 'cause', 'trading', 'opportunities', 'institutional', 'impairments', 'prime', 'financing', 'return', 'implications', 'general', 'goodwill', 'standards', 'ﬂ', 'december', 'states', 'agreement', 'issues', 'phase', 'i', 'negotiations', 'made', 'march', 'period', 'disclosed', 'investors', 'set', 'out', 'factorsﬂ', 'discuss', 'œwe', 'noted', 'valuation', 'scenarios', 'different', 'oversight', 'liability', 'various', 'claims', 'proceedings', 'investigations', 'conduct', 'businessﬂ', 'litigation', 'matters', 'provisions', 'cyberattacks', 'along', 'cyber', 'fraud', 'complexity', 'continually', 'process', 'execution', 'system', 'failures', 'crime', 'sanctions', 'corruption', 'continues', 'changing', 'expectations', 'ﬁoperational', 'reputation', 'achieving', 'goals', 'targets', 'ﬁour', 'success', 'compensationubs', 'societyubs', 'committed', 'creating', 'doing', 'so', 'aim', 'effectiveness', 'protecting', 'human', 'rights', 'responsible', 'want', 'provider', 'choice', 'united', 'un', 'sustainable', 'sdgs', 'low-carbon', 'organization', 'focuses', 'covers', 'investing', 'philanthropy', 'environmental', 'policies', 'supplier', 'footprint', 'community', 'standard', 'every', 'work', 'appropriate', 'stakeholders', 'commitment', 'progress', 'them', 'end', 'assess', 'aims', 'leader', 'si', 'aum', 'œhas', 'ambitious', 'internal', 'mandates', 'usd', 'billion', 'recognized', 'stakeholder', 'engagement', 'social', 'achieve', 'volunteering', 'expertise', 'networks', 'partner', 'philanthropists', 'ways', 'esg', 'ratings', 'principles', 'code', 'ethics', 'apply', 'engage', 'supports', 'culture', 'confirm', 'documents', 'about', 'mandatory', 'training', 'ccrc', 'annual', 'published', 'www', 'sustainably', 'communities', 'promote', 'generating', 'measurable', 'scope', 'document', 'employee', 'identify', 'organizations', 'initiatives', 'materiality', 'assessment', 'initiative', 'gri', 'sustainability', 'topics', 'firm™s', 'supported', 'survey', 'nearly', 'stability', 'innovation', 'protect', 'education', 'awareness', 'role', 'implementing', 'help', 'ubs™s', 'initiativefocus', 'topic', 'ubskey', 'outcome', 'fsb', 'task', 'force', 'climate-related', 'tcfd', 'align', 'disclosure', 'disclose', 'impacts', 'ceo', 'alliance', 'act', 'recommendations', 'programme', 'finance', 'unep', 'fi', 'approaches', 'envisioned', 'analysis', 'advancing', 'event', 'advisory', 'green', 'study', 'gfsg', 'presented', 'summit', 'ssf', 'financemember', 'projects', 'vfu', 'roundtable', 'sasb', 'metrics', 'public', 'accordance', 'icma', 'oecd', 'rbc', 'heritage', 'speaker', 'launch', 'paper', 'includes', 'best', 'case', 'palm', 'rspo', 'bei', 'soft', 'commodities', 'sectors', 'gaps', 'overseen', 'ag', 'committee', 'assessments', 'focused', 'supporting', 'four', 'seek', 'appetite', 'carbon-related', 'using', 'forward-looking', 'identified', 'clients™', 'efforts', 'offering', 'innovative', 'research', 'several', 'carbon', 'intensity', 'mobilize', 'mitigation', 'adaptation', 'greenhouse', 'gas', 'ghg', 'emissions', 'renewable', 'limited', 'power', 'agriculture', 'targeted', 'specific', 'ranging', 'modeling', 'availability', 'partnered', 'offer', 'rules-based', 'fund', 'mobilizing', 'include', 'mandate', 'offerings', 'philanthropic', 'provides', 'capital-raising', 'solar', 'wind', 'hydro', 'waste', 'biofuels', 'transport', 'strive', 'preferred', 'transactions', 'relating', 'group-wide', 're', 'compared', 'chf', 'total', 'deal', 'co', 't', 'e', 'per', 'million', 'index', 'utilities', 'n', 'water', 'grid', 'managed', 'proposals', 'provided', 'gross', 'reductions', ';', 'indirect', 'electricity', 'travel', 'available', 'iso', 'indicators', 'recycling', 'sourced', 'supply', 'goods', 'suppliers', 'practices', 'rscm', 'values', 'partners', 'health', 'potentially', 'high', 'djsi', 'th', 'ranking', 'among', 'peer', 'award', 'banker', 'awards', 'csr', 'winner', 'awarded', 'seven', 'respective', 'cleantech', 'third', 'table', 'gain', 'recognition', 'criteria', 'position', 'rating', 'companies™', 'offers', 'check-ups', 'smes', 'how', 'incorporate', 'objectives', 'increases', 'integration', 'third-party', 'categories', 'rise', 'œusd', 'raised', 'œinvests', 'care', 'themes', 'focusing', 'held', 'like', 'extent', 'p', 'screening', 'exclusions', 'dib', 'ended', 'fs', 'rpi', 'exclusionary', 'active', 'selection', 'strategies', 'best-in-class', 'objective', 'customized', 'actively', 'discretionary', 'segregated', 'integrating', 'entire', 'add', '|', 'actual', 'degree', 'successful', 'tlac', 'centers', 'constraints', 'implement', 'finma', 'whether', 'differences', 'compete', 'existing', 's', 'distributions', 'filings', 'sec', 'precisely', 'tables', 'text', 'percentages', 'percent', 'absolute', 'variances', 'calculated', 'rounded']\n"
     ]
    }
   ],
   "source": [
    "from gensim.models import Word2Vec\n",
    "\n",
    "\n",
    "import nltk\n",
    "final_text = ' '.join(final_text.split())\n",
    "final_text = final_text.replace('.','. ')\n",
    "\n",
    "tokens_sentences = [nltk.word_tokenize(t) for t in \n",
    "nltk.sent_tokenize(final_text)]\n",
    "sentences = tokens_sentences\n",
    "\n",
    "model = Word2Vec(sentences,min_count=2, size=len(tokens_sentences))\n",
    "\n",
    "words = list(model.wv.vocab)\n",
    "print(words)\n",
    "\n",
    "\n",
    "\n"
   ]
  },
  {
   "cell_type": "code",
   "execution_count": 13,
   "metadata": {},
   "outputs": [],
   "source": [
    "from gensim.test.utils import datapath\n",
    "from gensim.models.word2vec import Text8Corpus\n",
    "from gensim.models.phrases import Phrases, Phraser\n",
    "\n",
    "phrases = Phrases(sentences, min_count=1, threshold=1)  # train model\n",
    "\n",
    "bigram = Phraser(phrases)  # construct faster model (this is only an wrapper)\n",
    "\n",
    "\n",
    "for sent in bigram[sentences]:  # apply model to text corpus\n",
    "    pass\n",
    "\n",
    "test = []\n",
    "for phrase, score in phrases.export_phrases(sentences):\n",
    "    if score > 75:\n",
    "        test.append(phrase)\n",
    "        \n",
    "mySet = set(test)\n"
   ]
  },
  {
   "cell_type": "code",
   "execution_count": 14,
   "metadata": {},
   "outputs": [
    {
     "name": "stdout",
     "output_type": "stream",
     "text": [
      "b'banks disclose'\n",
      "b'equities strategy'\n",
      "b'economic activity'\n",
      "b'national bank'\n",
      "b'invested assets'\n",
      "b'overseen by'\n",
      "b'withdrawal from'\n",
      "b'switzerland\\xe2\\x84\\xa2s energy'\n",
      "b'co e'\n",
      "b'health care'\n"
     ]
    }
   ],
   "source": [
    "import itertools\n",
    "for i, val in enumerate(itertools.islice(mySet, 10)):\n",
    "    print(val)"
   ]
  },
  {
   "cell_type": "code",
   "execution_count": null,
   "metadata": {},
   "outputs": [],
   "source": []
  }
 ],
 "metadata": {
  "kernelspec": {
   "display_name": "Python 3",
   "language": "python",
   "name": "python3"
  },
  "language_info": {
   "codemirror_mode": {
    "name": "ipython",
    "version": 3
   },
   "file_extension": ".py",
   "mimetype": "text/x-python",
   "name": "python",
   "nbconvert_exporter": "python",
   "pygments_lexer": "ipython3",
   "version": "3.6.7"
  }
 },
 "nbformat": 4,
 "nbformat_minor": 2
}
